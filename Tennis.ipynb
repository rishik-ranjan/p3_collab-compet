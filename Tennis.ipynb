{
 "cells": [
  {
   "cell_type": "markdown",
   "metadata": {},
   "source": [
    "# Collaboration and Competition\n",
    "\n",
    "---\n",
    "\n",
    "In this notebook, you will learn how to use the Unity ML-Agents environment for the third project of the [Deep Reinforcement Learning Nanodegree](https://www.udacity.com/course/deep-reinforcement-learning-nanodegree--nd893) program.\n",
    "\n",
    "### 1. Start the Environment\n",
    "\n",
    "We begin by importing the necessary packages.  If the code cell below returns an error, please revisit the project instructions to double-check that you have installed [Unity ML-Agents](https://github.com/Unity-Technologies/ml-agents/blob/master/docs/Installation.md) and [NumPy](http://www.numpy.org/)."
   ]
  },
  {
   "cell_type": "code",
   "execution_count": 1,
   "metadata": {},
   "outputs": [
    {
     "name": "stdout",
     "output_type": "stream",
     "text": [
      "\u001b[31mtensorflow 1.7.1 has requirement numpy>=1.13.3, but you'll have numpy 1.12.1 which is incompatible.\u001b[0m\r\n",
      "\u001b[31mipython 6.5.0 has requirement prompt-toolkit<2.0.0,>=1.0.15, but you'll have prompt-toolkit 2.0.9 which is incompatible.\u001b[0m\r\n"
     ]
    }
   ],
   "source": [
    "!pip -q install ./python\n",
    "\n",
    "from unityagents import UnityEnvironment\n",
    "import numpy as np"
   ]
  },
  {
   "cell_type": "markdown",
   "metadata": {},
   "source": [
    "Next, we will start the environment!  **_Before running the code cell below_**, change the `file_name` parameter to match the location of the Unity environment that you downloaded.\n",
    "\n",
    "- **Mac**: `\"path/to/Tennis.app\"`\n",
    "- **Windows** (x86): `\"path/to/Tennis_Windows_x86/Tennis.exe\"`\n",
    "- **Windows** (x86_64): `\"path/to/Tennis_Windows_x86_64/Tennis.exe\"`\n",
    "- **Linux** (x86): `\"path/to/Tennis_Linux/Tennis.x86\"`\n",
    "- **Linux** (x86_64): `\"path/to/Tennis_Linux/Tennis.x86_64\"`\n",
    "- **Linux** (x86, headless): `\"path/to/Tennis_Linux_NoVis/Tennis.x86\"`\n",
    "- **Linux** (x86_64, headless): `\"path/to/Tennis_Linux_NoVis/Tennis.x86_64\"`\n",
    "\n",
    "For instance, if you are using a Mac, then you downloaded `Tennis.app`.  If this file is in the same folder as the notebook, then the line below should appear as follows:\n",
    "```\n",
    "env = UnityEnvironment(file_name=\"Tennis.app\")\n",
    "```"
   ]
  },
  {
   "cell_type": "code",
   "execution_count": 2,
   "metadata": {},
   "outputs": [
    {
     "name": "stderr",
     "output_type": "stream",
     "text": [
      "INFO:unityagents:\n",
      "'Academy' started successfully!\n",
      "Unity Academy name: Academy\n",
      "        Number of Brains: 1\n",
      "        Number of External Brains : 1\n",
      "        Lesson number : 0\n",
      "        Reset Parameters :\n",
      "\t\t\n",
      "Unity brain name: TennisBrain\n",
      "        Number of Visual Observations (per agent): 0\n",
      "        Vector Observation space type: continuous\n",
      "        Vector Observation space size (per agent): 8\n",
      "        Number of stacked Vector Observation: 3\n",
      "        Vector Action space type: continuous\n",
      "        Vector Action space size (per agent): 2\n",
      "        Vector Action descriptions: , \n"
     ]
    }
   ],
   "source": [
    "env = UnityEnvironment(file_name=\"/data/Tennis_Linux_NoVis/Tennis\")\n",
    "# env = UnityEnvironment(file_name=\"Tennis.app\")"
   ]
  },
  {
   "cell_type": "markdown",
   "metadata": {},
   "source": [
    "Environments contain **_brains_** which are responsible for deciding the actions of their associated agents. Here we check for the first brain available, and set it as the default brain we will be controlling from Python."
   ]
  },
  {
   "cell_type": "code",
   "execution_count": 3,
   "metadata": {},
   "outputs": [],
   "source": [
    "# get the default brain\n",
    "brain_name = env.brain_names[0]\n",
    "brain = env.brains[brain_name]"
   ]
  },
  {
   "cell_type": "markdown",
   "metadata": {},
   "source": [
    "### 2. Examine the State and Action Spaces\n",
    "\n",
    "In this environment, two agents control rackets to bounce a ball over a net. If an agent hits the ball over the net, it receives a reward of +0.1.  If an agent lets a ball hit the ground or hits the ball out of bounds, it receives a reward of -0.01.  Thus, the goal of each agent is to keep the ball in play.\n",
    "\n",
    "The observation space consists of 8 variables corresponding to the position and velocity of the ball and racket. Two continuous actions are available, corresponding to movement toward (or away from) the net, and jumping. \n",
    "\n",
    "Run the code cell below to print some information about the environment."
   ]
  },
  {
   "cell_type": "code",
   "execution_count": 4,
   "metadata": {},
   "outputs": [],
   "source": [
    "# # reset the environment\n",
    "# env_info = env.reset(train_mode=True)[brain_name]\n",
    "\n",
    "# # number of agents \n",
    "# num_agents = len(env_info.agents)\n",
    "# print('Number of agents:', num_agents)\n",
    "\n",
    "# # size of each action\n",
    "# action_size = brain.vector_action_space_size\n",
    "# print('Size of each action:', action_size)\n",
    "\n",
    "# # examine the state space \n",
    "# states = env_info.vector_observations\n",
    "# state_size = states.shape[1]\n",
    "# print('There are {} agents. Each observes a state with length: {}'.format(states.shape[0], state_size))\n",
    "# print('The state for the first agent looks like:', states[0])"
   ]
  },
  {
   "cell_type": "markdown",
   "metadata": {},
   "source": [
    "### 3. Take Random Actions in the Environment\n",
    "\n",
    "In the next code cell, you will learn how to use the Python API to control the agents and receive feedback from the environment.\n",
    "\n",
    "Once this cell is executed, you will watch the agents' performance, if they select actions at random with each time step.  A window should pop up that allows you to observe the agents.\n",
    "\n",
    "Of course, as part of the project, you'll have to change the code so that the agents are able to use their experiences to gradually choose better actions when interacting with the environment!"
   ]
  },
  {
   "cell_type": "code",
   "execution_count": 5,
   "metadata": {},
   "outputs": [],
   "source": [
    "# for i in range(1, 6):                                      # play game for 5 episodes\n",
    "#     env_info = env.reset(train_mode=False)[brain_name]     # reset the environment    \n",
    "#     states = env_info.vector_observations                  # get the current state (for each agent)\n",
    "#     scores = np.zeros(num_agents)                          # initialize the score (for each agent)\n",
    "#     while True:\n",
    "#         actions = np.random.randn(num_agents, action_size) # select an action (for each agent)\n",
    "#         actions = np.clip(actions, -1, 1)                  # all actions between -1 and 1\n",
    "#         env_info = env.step(actions)[brain_name]           # send all actions to tne environment\n",
    "#         next_states = env_info.vector_observations         # get next state (for each agent)\n",
    "#         rewards = env_info.rewards                         # get reward (for each agent)\n",
    "#         dones = env_info.local_done                        # see if episode finished\n",
    "#         scores += env_info.rewards                         # update the score (for each agent)\n",
    "#         states = next_states                               # roll over states to next time step\n",
    "#         if np.any(dones):                                  # exit loop if episode finished\n",
    "#             break\n",
    "#     print('Score (max over agents) from episode {}: {}'.format(i, np.max(scores)))"
   ]
  },
  {
   "cell_type": "markdown",
   "metadata": {},
   "source": [
    "When finished, you can close the environment."
   ]
  },
  {
   "cell_type": "code",
   "execution_count": 6,
   "metadata": {},
   "outputs": [],
   "source": [
    "# env.close()"
   ]
  },
  {
   "cell_type": "markdown",
   "metadata": {},
   "source": [
    "### 4. It's Your Turn!\n",
    "\n",
    "Now it's your turn to train your own agent to solve the environment!  When training the environment, set `train_mode=True`, so that the line for resetting the environment looks like the following:\n",
    "```python\n",
    "env_info = env.reset(train_mode=True)[brain_name]\n",
    "```"
   ]
  },
  {
   "cell_type": "code",
   "execution_count": 7,
   "metadata": {},
   "outputs": [],
   "source": [
    "import random\n",
    "import torch\n",
    "from collections import namedtuple, deque\n",
    "import matplotlib.pyplot as plt\n",
    "%matplotlib inline\n",
    "\n",
    "plt.ion()"
   ]
  },
  {
   "cell_type": "code",
   "execution_count": 8,
   "metadata": {},
   "outputs": [],
   "source": [
    "from maddpgLocal import MADDPG\n",
    "from maddpgLocal import ReplayBuffer"
   ]
  },
  {
   "cell_type": "code",
   "execution_count": 9,
   "metadata": {},
   "outputs": [],
   "source": [
    "BUFFER_SIZE = int(1e6)         # replay buffer size\n",
    "BATCH_SIZE = 128               # minibatch size\n",
    "SEED = 0"
   ]
  },
  {
   "cell_type": "code",
   "execution_count": 10,
   "metadata": {},
   "outputs": [],
   "source": [
    "maddpg = MADDPG(seed=SEED)\n",
    "memory = ReplayBuffer(BUFFER_SIZE, BATCH_SIZE, SEED)"
   ]
  },
  {
   "cell_type": "code",
   "execution_count": 11,
   "metadata": {},
   "outputs": [],
   "source": [
    "num_agents = 2\n",
    "\n",
    "n_episodes = 10000\n",
    "max_t = 1000\n",
    "print_every = 100\n",
    "updateaftertimesteps = 4\n",
    "multiplelearnperupdate = 3\n",
    "noise = 1\n",
    "noise_reduction = 1\n",
    "    \n",
    "scores_all = []\n",
    "scores_window = deque(maxlen=100)\n",
    "scores1 = deque(maxlen=100)\n",
    "scores2 = deque(maxlen=100)"
   ]
  },
  {
   "cell_type": "code",
   "execution_count": 12,
   "metadata": {},
   "outputs": [
    {
     "name": "stdout",
     "output_type": "stream",
     "text": [
      "Episode 100\tAverage Score: 0.014\tScore1: -0.005\tScore2: 0.009\n",
      "Episode 200\tAverage Score: 0.000\tScore1: -0.004\tScore2: -0.006\n",
      "Episode 300\tAverage Score: 0.000\tScore1: -0.005\tScore2: -0.005\n",
      "Episode 400\tAverage Score: 0.000\tScore1: -0.004\tScore2: -0.005\n",
      "Episode 500\tAverage Score: 0.000\tScore1: -0.004\tScore2: -0.006\n",
      "Episode 600\tAverage Score: 0.000\tScore1: -0.005\tScore2: -0.005\n",
      "Episode 700\tAverage Score: 0.006\tScore1: -0.003\tScore2: 0.0010\n",
      "Episode 800\tAverage Score: 0.000\tScore1: -0.005\tScore2: -0.005\n",
      "Episode 900\tAverage Score: 0.000\tScore1: -0.005\tScore2: -0.005\n",
      "Episode 1000\tAverage Score: 0.009\tScore1: 0.005\tScore2: -0.005\n",
      "Episode 1100\tAverage Score: 0.017\tScore1: 0.004\tScore2: 0.0041\n",
      "Episode 1200\tAverage Score: 0.014\tScore1: -0.003\tScore2: 0.007\n",
      "Episode 1300\tAverage Score: 0.019\tScore1: 0.002\tScore2: 0.00741\n",
      "Episode 1400\tAverage Score: 0.037\tScore1: 0.016\tScore2: 0.014\n",
      "Episode 1500\tAverage Score: 0.032\tScore1: -0.002\tScore2: 0.025\n",
      "Episode 1600\tAverage Score: 0.067\tScore1: 0.017\tScore2: 0.0497\n",
      "Episode 1700\tAverage Score: 0.085\tScore1: 0.039\tScore2: 0.043\n",
      "Episode 1800\tAverage Score: 0.092\tScore1: 0.056\tScore2: 0.042\n",
      "Episode 1900\tAverage Score: 0.101\tScore1: 0.076\tScore2: 0.050\n",
      "Episode 2000\tAverage Score: 0.103\tScore1: 0.071\tScore2: 0.054\n",
      "Episode 2100\tAverage Score: 0.122\tScore1: 0.086\tScore2: 0.073\n",
      "Episode 2200\tAverage Score: 0.136\tScore1: 0.103\tScore2: 0.088\n",
      "Episode 2300\tAverage Score: 0.151\tScore1: 0.117\tScore2: 0.112\n",
      "Episode 2400\tAverage Score: 0.202\tScore1: 0.181\tScore2: 0.177\n",
      "Episode 2500\tAverage Score: 0.163\tScore1: 0.145\tScore2: 0.135\n",
      "Episode 2600\tAverage Score: 0.325\tScore1: 0.298\tScore2: 0.299\n",
      "Episode 2700\tAverage Score: 0.310\tScore1: 0.280\tScore2: 0.287\n",
      "Episode 2800\tAverage Score: 0.351\tScore1: 0.331\tScore2: 0.321\n",
      "Episode 2900\tAverage Score: 0.345\tScore1: 0.313\tScore2: 0.315\n",
      "Episode 2998\tAverage Score: 0.505\tScore1: 0.482\tScore2: 0.470\n",
      "Environment solved in 2998 episodes!\tAverage Score: 0.505\n"
     ]
    }
   ],
   "source": [
    "for i_episode in range(1, n_episodes+1):\n",
    "    env_info = env.reset(train_mode=True)[brain_name]      # reset the environment    \n",
    "    states = env_info.vector_observations                  # get the current state (for each agent)\n",
    "    scores = np.zeros(num_agents)                          # initialize the score (for each agent)\n",
    "    \n",
    "    maddpg.agents[0].reset()\n",
    "    maddpg.agents[1].reset()\n",
    "        \n",
    "    for t in range(max_t):\n",
    "            \n",
    "        # Each agent acts based on its own observed states\n",
    "        action1 = maddpg.agents[0].act(states[:1],noise)                # select an action for agent 1\n",
    "        action2 = maddpg.agents[1].act(states[1:],noise)                # select an action for agent 2\n",
    "        actions = np.concatenate((action1, action2),axis=0)\n",
    "        \n",
    "        noise *= noise_reduction\n",
    "        \n",
    "        # Find the outcome of every agent's action on the environment\n",
    "        env_info = env.step(actions)[brain_name]       # send all actions to the environment\n",
    "        next_states = env_info.vector_observations     # get next state (for each agent)\n",
    "        rewards = env_info.rewards                     # get reward (for each agent)\n",
    "        dones = env_info.local_done                    # get whether done (for each agent)    \n",
    "        \n",
    "        memory.add(states, actions, rewards, next_states, dones)\n",
    "        if len(memory) > BATCH_SIZE:\n",
    "            if t%updateaftertimesteps == 0:\n",
    "                for _ in range(multiplelearnperupdate):\n",
    "                    for a_i in range(2):\n",
    "                        samples = memory.sample()\n",
    "                        maddpg.update(samples, a_i)\n",
    "                        maddpg.update_targets(a_i)\n",
    "    \n",
    "        scores += env_info.rewards\n",
    "        states = next_states\n",
    "        if np.any(dones):\n",
    "            break\n",
    "            \n",
    "    scores_window.append(np.max(scores))\n",
    "    scores1.append(scores[0])\n",
    "    scores2.append(scores[1])\n",
    "    scores_all.append(np.max(scores))\n",
    "    print('\\rEpisode {}\\tAverage Score: {:.3f}\\tScore1: {:.3f}\\tScore2: {:.3f}'.\\\n",
    "          format(i_episode, np.mean(scores_window)\\\n",
    "                 ,np.mean(scores1),np.mean(scores2)),end=\"\")\n",
    "\n",
    "    if i_episode % print_every == 0:\n",
    "        print('\\rEpisode {}\\tAverage Score: {:.3f}\\tScore1: {:.3f}\\tScore2: {:.3f}'.\\\n",
    "              format(i_episode, np.mean(scores_window),np.mean(scores1),np.mean(scores2)))\n",
    "    if np.mean(scores_window)>=0.5:\n",
    "        print('\\nEnvironment solved in {:d} episodes!\\tAverage Score: {:.3f}'.\\\n",
    "              format(i_episode, np.mean(scores_window)))\n",
    "\n",
    "        torch.save(maddpg.agents[0].actor_local.state_dict(), 'agent0_localactor.pth')\n",
    "        torch.save(maddpg.agents[0].actor_target.state_dict(), 'agent0_targetactor.pth')\n",
    "        torch.save(maddpg.agents[0].critic_local.state_dict(), 'agent0_localcritic.pth')\n",
    "        torch.save(maddpg.agents[0].critic_target.state_dict(), 'agent0_targetcritic.pth')\n",
    "        \n",
    "        torch.save(maddpg.agents[1].actor_local.state_dict(), 'agent1_localactor.pth')\n",
    "        torch.save(maddpg.agents[1].actor_target.state_dict(), 'agent1_targetactor.pth')\n",
    "        torch.save(maddpg.agents[1].critic_local.state_dict(), 'agent1_localcritic.pth')\n",
    "        torch.save(maddpg.agents[1].critic_target.state_dict(), 'agent1_targetcritic.pth')\n",
    "\n",
    "        break"
   ]
  },
  {
   "cell_type": "code",
   "execution_count": 13,
   "metadata": {},
   "outputs": [
    {
     "data": {
      "image/png": "[encoded data removed]",
      "text/plain": [
       "<matplotlib.figure.Figure at 0x7f51f1c93f28>"
      ]
     },
     "metadata": {
      "needs_background": "light"
     },
     "output_type": "display_data"
    }
   ],
   "source": [
    "fig = plt.figure()\n",
    "ax = fig.add_subplot(111)\n",
    "plt.plot(np.arange(1, len(scores_all)+1), scores_all)\n",
    "plt.ylabel('Score')\n",
    "plt.xlabel('Episode #')\n",
    "plt.show()"
   ]
  },
  {
   "cell_type": "code",
   "execution_count": 14,
   "metadata": {},
   "outputs": [
    {
     "data": {
      "image/png": "[encoded data removed]",
      "text/plain": [
       "<matplotlib.figure.Figure at 0x7f519ea522e8>"
      ]
     },
     "metadata": {
      "needs_background": "light"
     },
     "output_type": "display_data"
    }
   ],
   "source": [
    "fig = plt.figure()\n",
    "ax = fig.add_subplot(111)\n",
    "plt.plot(np.arange(1, len(scores_all)+1), scores_all)\n",
    "plt.ylabel('Score')\n",
    "plt.xlabel('Episode #')\n",
    "plt.savefig('result.png')"
   ]
  },
  {
   "cell_type": "code",
   "execution_count": null,
   "metadata": {},
   "outputs": [],
   "source": []
  }
 ],
 "metadata": {
  "kernelspec": {
   "display_name": "Python 3",
   "language": "python",
   "name": "python3"
  },
  "language_info": {
   "codemirror_mode": {
    "name": "ipython",
    "version": 3
   },
   "file_extension": ".py",
   "mimetype": "text/x-python",
   "name": "python",
   "nbconvert_exporter": "python",
   "pygments_lexer": "ipython3",
   "version": "3.6.3"
  }
 },
 "nbformat": 4,
 "nbformat_minor": 2
}
